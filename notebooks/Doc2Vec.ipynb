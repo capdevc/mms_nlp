{
 "metadata": {
  "name": "",
  "signature": "sha256:74af733af870141a07eaf6717cd41affc9710dbe80e1ce4860685c48eb385c84"
 },
 "nbformat": 3,
 "nbformat_minor": 0,
 "worksheets": [
  {
   "cells": [
    {
     "cell_type": "code",
     "collapsed": false,
     "input": [
      "from __future__ import print_function, division\n",
      "from gensim import utils\n",
      "from gensim.models.doc2vec import Doc2Vec, LabeledSentence\n",
      "from nltk.stem.lancaster import LancasterStemmer\n",
      "from nltk.tokenize import RegexpTokenizer\n",
      "from nltk.tokenize.punkt import PunktSentenceTokenizer"
     ],
     "language": "python",
     "metadata": {},
     "outputs": [],
     "prompt_number": 1
    },
    {
     "cell_type": "code",
     "collapsed": false,
     "input": [
      "model = Doc2Vec.load('../../doc2vec_model_small.bin')\n",
      "print(len(model.vocab.keys()))\n",
      "print(model[u'PMID18597976'].shape)"
     ],
     "language": "python",
     "metadata": {},
     "outputs": [
      {
       "output_type": "stream",
       "stream": "stdout",
       "text": [
        "9004915\n",
        "(1600,)\n"
       ]
      }
     ],
     "prompt_number": 3
    },
    {
     "cell_type": "markdown",
     "metadata": {},
     "source": [
      "##Input\n",
      "NQMC-2007\tThis measure is used to assess the percentage of HIV positive adolescent and adult patients who reported how often they could schedule an appointment soon enough for their needs when needed.    This measure is part of the Patient Satisfaction Survey for HIV Ambulatory Care (PSS-HIV) -- Core Measures.Patient satisfaction has recently emerged as an important measure of the quality of health care delivery, right alongside the more traditional health status measurements and quality of life indicators. This is based largely on the discovery that patients with higher satisfaction levels often make important behavioral changes, including:      Maintaining more stable relationships with health care providers  Complying more closely with medical advice and treatment  Keeping appointments    Patients with higher satisfaction levels may also have improved health outcomes.    Many HIV providers have been measuring patient satisfaction at their HIV programs for some time. Others are just beginning. Measuring patient satisfaction will help to:      Strengthen communication and build relations with patients  Assess the strengths and weaknesses of HIV programs from the patients' perspective  Focus the quality improvement efforts  Create baseline data against which to measure changes in patient satisfaction    Taken together, these outcomes represent key opportunities to make and monitor the changes required to achieve some important goals: improving patient satisfaction and improving care overall.\tThe number of patients who indicated \"All of the time,\" \"Most times,\" \"Sometimes,\" \"Rarely,\" \"Never,\" or \"Does not apply\" to the item, \"When I needed an appointment, I could schedule one soon enough for my needs.\"\tHIV positive adolescents and adults 13 years of age and older who had at least 2 HIV primary care visits in the last 12 months and completed the survey \t0\t0\n",
      "\n",
      "##Output\n",
      "Left ventricular remodeling post-myocardial infarction (MI) involves a multitude of mechanisms that regulate the repair response. Matrix metalloproteinases (MMPs) are a major family of proteolytic enzymes that coordinate extracellular matrix turnover. MMP-7 or MMP-9 deletion attenuate adverse remodeling post-MI, but the mechanisms have not been fully clarified. Both MMP-7 and MMP-9 have a large number of known in vitro substrates, but in vivo substrates for these two MMPs in the myocardial infarction setting are incompletely identified. Advances in proteomic techniques have enabled comprehensive profiling of protein expression in cells and tissue. In this chapter, we describe a protocol for the proteomic analysis of in vivo candidate MMP substrates in the post-MI left ventricle using two-dimensional electrophoresis, liquid chromatography coupled with tandem mass spectrometry, and immunoblotting."
     ]
    },
    {
     "cell_type": "code",
     "collapsed": false,
     "input": [
      "model.most_similar('PATEX1')"
     ],
     "language": "python",
     "metadata": {},
     "outputs": [
      {
       "metadata": {},
       "output_type": "pyout",
       "prompt_number": 9,
       "text": [
        "[(u'PMID23955744', 0.14279642701148987),\n",
        " (u'PMID20002624', 0.1336611956357956),\n",
        " (u'PMID16741712', 0.12981197237968445),\n",
        " (u'PMID22089102', 0.12881968915462494),\n",
        " (u'PMID17083108', 0.12738539278507233),\n",
        " (u'PMID17082853', 0.12107546627521515),\n",
        " (u'PMID14763308', 0.12042227387428284),\n",
        " (u'PMID23673632', 0.12019937485456467),\n",
        " (u'PMID25215465', 0.1188456118106842),\n",
        " (u'PMID16050607', 0.11871838569641113)]"
       ]
      }
     ],
     "prompt_number": 9
    },
    {
     "cell_type": "markdown",
     "metadata": {},
     "source": [
      "##Input\n",
      "NQMC-5032\tThe \"Effectiveness\" scale* on the Treatment Satisfaction Questionnaire for Medication (TSQM) is used to assess the level of satisfaction or dissatisfaction with the (perceived) \"Effectiveness\" of medication. This composite scale is comprised of two items on the TSQM survey:        How satisfied or dissatisfied are you with the ability of the medication to prevent or treat the condition?       How satisfied or dissatisfied are you with the way the medication relieves symptoms?     *Note: The validity of this scale is influenced by the degree to which patients can; a) use personal experience to assess the effectiveness of their medication, b) has information on the clinical effectiveness of their medication (e.g., clinician appraisal, lab results etc.) and c) has formulated perceptions/beliefs about its effectiveness. Of note, patients' satisfaction and medication behavior may be the result of erroneous beliefs about the effectiveness of their medication. Moreover, medications may take time before they begin to work and TSQM assessments should be made after patients have had a chance to fully evaluate their medication.  Note: The \"Side Effects\" scale is a component of a composite measure. It cannot be used on its own and must be used with the following scales:        \"Side Effects\" scale of the Treatment Satisfaction Questionnaire for Medication (TSQM): the mean scale score for the \"Side Effects\" items on the TSQM (version II).       \"Convenience\" scale of the Treatment Satisfaction Questionnaire for Medication (TSQM): the mean scale score for the \"Convenience\" items on the TSQM (version II).       \"Global Satisfaction\" scale of the Treatment Satisfaction Questionnaire for Medication (TSQM): the mean scale score for the \"Global Satisfaction\" items on the TSQM (version II).   Patients' dissatisfaction with treatment may act as an early indicator of non-adherence and non-persistence with medication use, thereby affecting the clinical effectiveness and efficiency of medical care. Patients who perceive their medication to be ineffective, laden with side effects (see the related National Quality Measures Clearinghouse [NQMC] summary, \"Side Effects\" scale of the Treatment Satisfaction Questionnaire for Medication (TSQM): the mean scale score for the \"Side Effects\" items on the TSQM (version II)), very inconvenient (see the related NQMC summary, \"Convenience\" scale of the Treatment Satisfaction Questionnaire for Medication (TSQM): the mean scale score for the \"Convenience\" items on the TSQM (version II)), or as having more negative than positive characteristics (see the related NQMC summary, \"Global Satisfaction\" scale of the Treatment Satisfaction Questionnaire for Medication (TSQM): the mean scale score for the \"Global Satisfaction\" items on the TSQM (version II)) are less likely to fill prescriptions or take their medications as prescribed. This in turn can impact the effectiveness of treatment and may result in service inefficiencies associated with treatment failure.  Treatment Satisfaction Questionnaire for Medication (TSQM) provides a unique opportunity to compare medications on three primary dimensions (Effectiveness, Side Effects, Convenience), as well as evaluate the relative importance of these primary dimensions to patients using overall rating of Global Satisfaction. Routine assessment of patients' level of TS-M provides a way for clinicians to screen individuals whose current medication experiences may increase the risk of poor medication adherence and weak persistence. In aggregate, TSQM scores can foster a deeper consideration of patients' perspectives when evaluating the merits and drawbacks of various treatment alternatives.\tThe number of \"Extremely Dissatisfied,\" \"Very Dissatisfied,\" \"Dissatisfied,\" \"Somewhat Satisfied,\" \"Satisfied,\" \"Very Satisfied,\" and \"Extremely Satisfied\" responses for the \"Effectiveness\" items on the Treatment Satisfaction Questionnaire for Medication. From the responses, a scale score is calculated with a higher score indicating greater satisfaction.\tPatients who completed the \"Effectiveness\" items on the Treatment Satisfaction Questionnaire for Medication (TSQM)\t0\t14987333,16336491,14987333,19397800\n",
      "##Output\n",
      "The global burden of sexually transmitted infections (STIs) is highest in the developing world where access to laboratory services is limited. Sophisticated laboratory diagnostic tests using noninvasive specimens have enabled developed countries to screen and diagnose curable STIs in a variety of settings, but control programs in resource-limited settings continue to struggle to find simple rapid tests that can provide adequate performance in the absence of laboratory services. While recent technological advances and investments in research and development may soon yield improved STI tests that can make an impact, these tests will need to be deployed within a health system that includes: regulatory oversight, quality assurance, good supply-chain management, effective training, information systems and a sound surveillance system to monitor disease trends, inform policy decisions and assess the impact of interventions."
     ]
    },
    {
     "cell_type": "code",
     "collapsed": false,
     "input": [
      "model.most_similar('PATEX203')"
     ],
     "language": "python",
     "metadata": {},
     "outputs": [
      {
       "metadata": {},
       "output_type": "pyout",
       "prompt_number": 4,
       "text": [
        "[(u'PMID19995188', 0.13269370794296265),\n",
        " (u'PMID25064242', 0.12409170717000961),\n",
        " (u'PMID24349323', 0.12300870567560196),\n",
        " (u'PMID11496629', 0.11939096450805664),\n",
        " (u'PMID21275477', 0.11841864138841629),\n",
        " (u'PMID20470803', 0.11838147789239883),\n",
        " (u'PMID22036009', 0.11831918358802795),\n",
        " (u'PMID23113774', 0.11744366586208344),\n",
        " (u'PMID21105428', 0.11736910790205002),\n",
        " (u'PMID16853505', 0.11715691536664963)]"
       ]
      }
     ],
     "prompt_number": 4
    },
    {
     "cell_type": "markdown",
     "metadata": {},
     "source": [
      "##Input\n",
      "BACKGROUND:\n",
      "Preventive care guidelines for children include parent education and counseling, developmental assessment, and screening for psychosocial and safety risks. Health care providers are in a unique position to identify and follow up on potential problems and to influence parenting knowledge, attitudes, and behavior to ensure the healthy development of young children. Few quality measures are available to assess health care system performance in this important area.\n",
      "OBJECTIVE:\n",
      "To develop a feasible, valid, and reliable methodology for evaluating health care system performance in providing family-centered anticipatory guidance and child and family assessment services on behalf of children from birth through 48 months old. Methods. The Promoting Healthy Development Survey (PHDS) was developed and tested with a diverse group of families in 3 managed care organizations (n = 1478). A standard mail administration protocol was used, including an informed consent with a waiver of documentation, 2 mailings, a postcard reminder, and telephone reminders. The 36-item parent survey assesses whether health care providers(1) talk with parents about topics recommended in Bright Futures and the American Academy of Pediatrics Guidelines for Health Supervision,(2) provide follow-up for children who may be at risk for developmental problems,(3) and address psychosocial well-being and safety within the family. The PHDS also assesses the degree to which parent's interactions with providers are family-centered, helpful, and facilitate parental confidence. Psychometric, bivariate, and multivariate analyses were conducted to assess the reliability, validity, and patterns of variation in the seven quality measures derived from the PHDS.\n",
      "RESULTS:\n",
      "Psychometric analyses demonstrated that the PHDS quality measure scales have strong construct validity (mean factor loading: 0.69) and internal consistency (mean Cronbach's alpha: 0.80). Parents reporting positive parenting behaviors had significantly higher scores on the anticipatory guidance quality measure compared with parents not reporting positive behaviors. Parents who reported that their questions on specific anticipatory guidance topics were answered were more likely to report higher confidence in related parenting activities (odds ratio [OR]: 5.9, 95% confidence interval [CI]: 3.4-10.2; OR: 8.3, 95% CI: 5-13.8)and were less likely to report concerns about their child's development in related areas compared with parents who reported they wished they had talked more with their child's doctor about these topics (OR: 0.46, 95% CI: 0.29-0.72; OR: 0.58, 95% CI: 0.37-0.89). The 7 PHDS quality measure scores for health plans ranged from 17 to 67 (on a 0-100 scale; where 100 is the best score possible) and varied significantly across health plans. Performance was highest for provision of anticipatory guidance information from health plans and lowest for family psychosocial assessment. Scores for families with Medicaid coverage were significantly higher on 2 of the PHDS measures and significantly lower for 3 measures compared with scores for families with commercial insurance. Age of child, whether child is first- born, parental marital status, education, income, and race were significant predictors for 1 or more of the PHDS quality measures (average R(2) = 0.05).\n",
      "CONCLUSIONS:\n",
      "The PHDS provides a comprehensive, psychometrically valid and reliable assessment of how well health plans and the health care providers working within these plans promote the healthy development of young children. The PHDS seems to differentiate among health care plans and among the different aspects of preventive care provided within a health plan. For the population studied here, there is significant room for improvement in ensuring families and children receive appropriate and family-centered care to promote the healthy development of children between 3 and 48 months old. Because the PHDS is conceptually based on national recommendations for child health supervision, improved performance on the PHDS would indicate greater adherence to these national recommendations and progress toward the achievement of Healthy People 2010 goals. The generalizability of the findings presented in this report are being examined using data collected in 5 statewide Medicaid samples (N = 11 696) and data from the National Survey of Early Childhood Health, which has incorporated most of the PHDS items.\n",
      "##Output\n",
      "The assessment of tumor molecular features in combination with the detection of occult malignant cells may provide important clinical information, beyond the standard staging of breast cancer. Using a nested RT-PCR technique, we assessed prospectively the presence of cytokeratin-19 (CK19) mRNA positive cells in the blood of 100 operated patients with breast cancer before the initiation of adjuvant chemotherapy and local radiotherapy. Tissue samples were prospectively collected and analyzed for estrogen (ER) and progesterone (PgR) receptor, c-erbB-2 overexpression, mutant-p53 and bcl-2 protein accumulation, proliferation index and microvessel density (MVD). CK-19 mRNA-positive cells were detected in the peripheral blood of 33% of patients. Simultaneous display of high intratumoral MVD and of CK-19 mRNA-positive cells, which characterized highly angiogenic and disseminated in the peripheral blood (HAD) disease was noted in 25% of patients. Detection of CK-19 positive cells was significantly associated with increased MVD (p = 0.002). In univariate analysis (median follow-up 30 months) CK19 mRNA detection and MVD were the most significant factors related to a short relapse-free survival (RFS), (p < 0.0001). In multivariate analysis, CK19 positivity, high MVD and c-erbB-2 overexpression were the only significant and independent variables associated with relapse (p = 0.0005, 0.03 and 0.04, respectively). Patients with HAD had an expected relapse rate close to 70% vs. 5% in the remaining patients irrespectively of the used chemotherapy regimen. The simultaneous presence of high MVD and CK19-positive cells in the blood of patients with early breast is linked with poor prognosis, which cannot be improved with standard chemotherapy regimens."
     ]
    },
    {
     "cell_type": "code",
     "collapsed": false,
     "input": [
      "model.most_similar('PMID11331691')"
     ],
     "language": "python",
     "metadata": {},
     "outputs": [
      {
       "metadata": {},
       "output_type": "pyout",
       "prompt_number": 14,
       "text": [
        "[(u'PMID14696130', 0.13583041727542877),\n",
        " (u'PMID11685509', 0.13045573234558105),\n",
        " (u'PMID21402595', 0.1264195740222931),\n",
        " (u'PMID22164939', 0.12479215860366821),\n",
        " (u'PMID21769137', 0.1217171922326088),\n",
        " (u'PMID15802522', 0.12108079344034195),\n",
        " (u'PMID25190007', 0.1198178231716156),\n",
        " (u'PMID18694920', 0.11809559911489487),\n",
        " (u'PMID16303923', 0.11655839532613754),\n",
        " (u'PMID21045748', 0.11643657833337784)]"
       ]
      }
     ],
     "prompt_number": 14
    },
    {
     "cell_type": "markdown",
     "metadata": {},
     "source": [
      "##Vector Subtraction Output\n",
      "OBJECTIVE:\n",
      "To prepare anti-recombinant protein antibody from immunized mice with recombinant nucleocapsid protein (NP) of human influenza A3 (IFV-A3) virus expressed in prokaryotic cell, and to explore the feasibility of utilizing anti-recombinant protein antibody to detect influenza A virus.\n",
      "METHODS:\n",
      "NP genes of human influenza A virus were analyzed with computer softwares of ClustalX, Antheprot, et al. to determine the antigenicity in conserved regions. Three different partial NP genes were harvested and cloned into pET-28(c) plasmid, the recombinant plasmids were induced to express partial NP segments in BL21 cells. The recombinant proteins were purified with Ni-agarose by affinity chromatography and immunized BALB/c mice. The polyclonal antisera harvested from mice were analyzed with Western Blot and immunohistochemistry assays to detect the reactions with IFV-A.\n",
      "RESULTS:\n",
      "Three recombinant plasmids were expressed with high yield in BL21 cells, about 15-20 mg/L. Western Blot results indicated that the three prepared antisera (1:2000) positively reacted with NP from IFV-A3-infected cells. And immunohistochemistry assays suggested that anti-NP1, anti-NP2, anti-NP3 antisera positively reacted with IFV-A3 or IFV-A1-infected MDCK cells, with titers of 1:640 to 1:1280.\n",
      "CONCLUSION:\n",
      "The recombinant NP of IFV-A3 would induce polyclonal antibodies with high titers in mice. The polyclonal antibodies would cross-react with IFV-A3 and IFV-A1. It is feasible to predict the antigenicity with systematical bioinformatics analyses and then induce anti-IFV antibodies with high dilutions, and it is possible to be utilized in the early detection and subtyping analyses of IFV-infections."
     ]
    },
    {
     "cell_type": "code",
     "collapsed": false,
     "input": [
      "model.most_similar(positive=['PMID19555836', 'CARDIO1'], negative=['PATEX1'])"
     ],
     "language": "python",
     "metadata": {},
     "outputs": [
      {
       "metadata": {},
       "output_type": "pyout",
       "prompt_number": 17,
       "text": [
        "[(u'PMID19031705', 0.13374410569667816),\n",
        " (u'PMID11966527', 0.13048195838928223),\n",
        " (u'PMID16047956', 0.12612038850784302),\n",
        " (u'PMID19758523', 0.1250278204679489),\n",
        " (u'PMID20215989', 0.1200227290391922),\n",
        " (u'PMID15692109', 0.11976838856935501),\n",
        " (u'PMID24943453', 0.11936400085687637),\n",
        " (u'oncolog', 0.11862895637750626),\n",
        " (u'PMID15546393', 0.11818904429674149),\n",
        " (u'PMID19149255', 0.11750534921884537)]"
       ]
      }
     ],
     "prompt_number": 17
    }
   ],
   "metadata": {}
  }
 ]
}