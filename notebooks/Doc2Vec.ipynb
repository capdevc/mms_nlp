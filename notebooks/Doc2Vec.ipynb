{
 "metadata": {
  "name": "",
  "signature": "sha256:cd6979f1b148a0d85e7104265af7320409ea98552556c1127a19c0c99d13da87"
 },
 "nbformat": 3,
 "nbformat_minor": 0,
 "worksheets": [
  {
   "cells": [
    {
     "cell_type": "code",
     "collapsed": false,
     "input": [
      "from __future__ import print_function, division\n",
      "from gensim import utils\n",
      "from gensim.models.doc2vec import Doc2Vec, LabeledSentence\n",
      "from nltk.stem.lancaster import LancasterStemmer\n",
      "from nltk.tokenize import RegexpTokenizer\n",
      "from nltk.tokenize.punkt import PunktSentenceTokenizer"
     ],
     "language": "python",
     "metadata": {},
     "outputs": [],
     "prompt_number": 1
    },
    {
     "cell_type": "code",
     "collapsed": false,
     "input": [
      "model = Doc2Vec.load('doc2vec_model_small.bin')\n",
      "print(len(model.vocab.keys()))\n",
      "print(model[u'PMID18597976'].shape)"
     ],
     "language": "python",
     "metadata": {},
     "outputs": [
      {
       "metadata": {},
       "output_type": "pyout",
       "prompt_number": 6,
       "text": [
        "(1600,)"
       ]
      }
     ],
     "prompt_number": 6
    },
    {
     "cell_type": "code",
     "collapsed": false,
     "input": [
      "len(model.vocab.keys())"
     ],
     "language": "python",
     "metadata": {},
     "outputs": [
      {
       "metadata": {},
       "output_type": "pyout",
       "prompt_number": 7,
       "text": [
        "9004915"
       ]
      }
     ],
     "prompt_number": 7
    },
    {
     "cell_type": "code",
     "collapsed": false,
     "input": [
      "len(model.index2word)"
     ],
     "language": "python",
     "metadata": {},
     "outputs": [
      {
       "metadata": {},
       "output_type": "pyout",
       "prompt_number": 8,
       "text": [
        "9004915"
       ]
      }
     ],
     "prompt_number": 8
    },
    {
     "cell_type": "code",
     "collapsed": false,
     "input": [
      "model.most_similar('PATEX1')"
     ],
     "language": "python",
     "metadata": {},
     "outputs": [
      {
       "metadata": {},
       "output_type": "pyout",
       "prompt_number": 9,
       "text": [
        "[(u'PMID23955744', 0.14279642701148987),\n",
        " (u'PMID20002624', 0.1336611956357956),\n",
        " (u'PMID16741712', 0.12981197237968445),\n",
        " (u'PMID22089102', 0.12881968915462494),\n",
        " (u'PMID17083108', 0.12738539278507233),\n",
        " (u'PMID17082853', 0.12107546627521515),\n",
        " (u'PMID14763308', 0.12042227387428284),\n",
        " (u'PMID23673632', 0.12019937485456467),\n",
        " (u'PMID25215465', 0.1188456118106842),\n",
        " (u'PMID16050607', 0.11871838569641113)]"
       ]
      }
     ],
     "prompt_number": 9
    },
    {
     "cell_type": "code",
     "collapsed": false,
     "input": [
      "model.init_sims(replace=True)"
     ],
     "language": "python",
     "metadata": {},
     "outputs": [],
     "prompt_number": 10
    },
    {
     "cell_type": "code",
     "collapsed": false,
     "input": [
      "model.save('doc2vec_model_small.bin')"
     ],
     "language": "python",
     "metadata": {},
     "outputs": [],
     "prompt_number": 12
    },
    {
     "cell_type": "code",
     "collapsed": false,
     "input": [
      "model.most_similar('PATEX203')"
     ],
     "language": "python",
     "metadata": {},
     "outputs": [
      {
       "metadata": {},
       "output_type": "pyout",
       "prompt_number": 13,
       "text": [
        "[(u'PMID19995188', 0.13269370794296265),\n",
        " (u'PMID25064242', 0.12409170717000961),\n",
        " (u'PMID24349323', 0.12300870567560196),\n",
        " (u'PMID11496629', 0.11939096450805664),\n",
        " (u'PMID21275477', 0.11841864138841629),\n",
        " (u'PMID20470803', 0.11838147789239883),\n",
        " (u'PMID22036009', 0.11831918358802795),\n",
        " (u'PMID23113774', 0.11744366586208344),\n",
        " (u'PMID21105428', 0.11736908555030823),\n",
        " (u'PMID16853505', 0.11715691536664963)]"
       ]
      }
     ],
     "prompt_number": 13
    },
    {
     "cell_type": "code",
     "collapsed": false,
     "input": [
      "model.most_similar('PMID11331691')"
     ],
     "language": "python",
     "metadata": {},
     "outputs": [
      {
       "metadata": {},
       "output_type": "pyout",
       "prompt_number": 14,
       "text": [
        "[(u'PMID14696130', 0.13583041727542877),\n",
        " (u'PMID11685509', 0.13045573234558105),\n",
        " (u'PMID21402595', 0.1264195740222931),\n",
        " (u'PMID22164939', 0.12479215860366821),\n",
        " (u'PMID21769137', 0.1217171922326088),\n",
        " (u'PMID15802522', 0.12108079344034195),\n",
        " (u'PMID25190007', 0.1198178231716156),\n",
        " (u'PMID18694920', 0.11809559911489487),\n",
        " (u'PMID16303923', 0.11655839532613754),\n",
        " (u'PMID21045748', 0.11643657833337784)]"
       ]
      }
     ],
     "prompt_number": 14
    },
    {
     "cell_type": "code",
     "collapsed": false,
     "input": [
      "model.most_similar_cosmul('PMID15173469')"
     ],
     "language": "python",
     "metadata": {},
     "outputs": [
      {
       "metadata": {},
       "output_type": "pyout",
       "prompt_number": 16,
       "text": [
        "[(u'PMID24746209', 0.5665121674537659),\n",
        " (u'PMID23158102', 0.5651307702064514),\n",
        " (u'PMID25557147', 0.5628018379211426),\n",
        " (u'PMID23503667', 0.5626359581947327),\n",
        " (u'PMID15837038', 0.5612674355506897),\n",
        " (u'PMID11575622', 0.5610901117324829),\n",
        " (u'PMID15787551', 0.5595912337303162),\n",
        " (u'PMID17952449', 0.5594074130058289),\n",
        " (u'PMID18724970', 0.5591295957565308),\n",
        " (u'PMID17666094', 0.5587987899780273)]"
       ]
      }
     ],
     "prompt_number": 16
    },
    {
     "cell_type": "code",
     "collapsed": false,
     "input": [
      "model.most_similar(positive=['PMID19555836', 'CARDIO1'], negative=['PATEX1'])"
     ],
     "language": "python",
     "metadata": {},
     "outputs": [
      {
       "metadata": {},
       "output_type": "pyout",
       "prompt_number": 17,
       "text": [
        "[(u'PMID19031705', 0.13374410569667816),\n",
        " (u'PMID11966527', 0.13048195838928223),\n",
        " (u'PMID16047956', 0.12612038850784302),\n",
        " (u'PMID19758523', 0.1250278204679489),\n",
        " (u'PMID20215989', 0.1200227290391922),\n",
        " (u'PMID15692109', 0.11976838856935501),\n",
        " (u'PMID24943453', 0.11936400085687637),\n",
        " (u'oncolog', 0.11862895637750626),\n",
        " (u'PMID15546393', 0.11818904429674149),\n",
        " (u'PMID19149255', 0.11750534921884537)]"
       ]
      }
     ],
     "prompt_number": 17
    },
    {
     "cell_type": "code",
     "collapsed": false,
     "input": [],
     "language": "python",
     "metadata": {},
     "outputs": []
    }
   ],
   "metadata": {}
  }
 ]
}