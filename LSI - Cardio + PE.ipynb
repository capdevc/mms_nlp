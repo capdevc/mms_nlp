{
 "metadata": {
  "name": "",
  "signature": "sha256:1e52ecf2588dacdeeec58c1557598a5e5d0b58317e8525abb73c3452ed93748c"
 },
 "nbformat": 3,
 "nbformat_minor": 0,
 "worksheets": [
  {
   "cells": [
    {
     "cell_type": "code",
     "collapsed": false,
     "input": [
      "from __future__ import unicode_literals, division, print_function\n",
      "import logging\n",
      "import string\n",
      "from spacy.en import English\n",
      "from gensim import corpora, models, similarities\n",
      "from nltk.corpus import stopwords\n",
      "from nqmc_stuff import CorpusStreamer\n",
      "logging.basicConfig(format='%(asctime)s : %(levelname)s : %(message)s', level=logging.INFO)"
     ],
     "language": "python",
     "metadata": {},
     "outputs": [],
     "prompt_number": 1
    },
    {
     "cell_type": "markdown",
     "metadata": {},
     "source": [
      "Convert the measures texts to gensim corpus"
     ]
    },
    {
     "cell_type": "code",
     "collapsed": false,
     "input": [
      "corpus = CorpusStreamer('pe_measures.txt')\n",
      "corpus.save_dict('pe_measures.dict')\n",
      "corpus.save_mm('pe_measures.mm')\n",
      "corpus = CorpusStreamer('cardio_measures.txt')\n",
      "corpus.save_dict('cardio_measures.dict')\n",
      "corpus.save_mm('cardio_measures.mm')"
     ],
     "language": "python",
     "metadata": {},
     "outputs": [
      {
       "output_type": "stream",
       "stream": "stdout",
       "text": [
        "Dictionary(1771 unique tokens: [u'desirable', u'four', u'facilities', u'consists', u'relationships']...)\n",
        "Dictionary(3093 unique tokens: [u'limited', u'extrapolated', u'transitions', u'two-dimensional', u'post-operative']...)"
       ]
      },
      {
       "output_type": "stream",
       "stream": "stdout",
       "text": [
        "\n"
       ]
      }
     ],
     "prompt_number": 2
    },
    {
     "cell_type": "code",
     "collapsed": false,
     "input": [
      "mmcorp = corpora.MmCorpus('pe_measures.mm')\n",
      "dictionary = corpora.Dictionary.load('pe_measures.dict')\n",
      "print(mmcorp)"
     ],
     "language": "python",
     "metadata": {},
     "outputs": [
      {
       "output_type": "stream",
       "stream": "stdout",
       "text": [
        "MmCorpus(403 documents, 1771 features, 55676 non-zero entries)\n"
       ]
      }
     ],
     "prompt_number": 3
    },
    {
     "cell_type": "code",
     "collapsed": false,
     "input": [
      "tfidf = models.TfidfModel(mmcorp)\n",
      "corpus_tfidf = tfidf[mmcorp]\n",
      "lsi = models.LsiModel(corpus=corpus_tfidf, id2word=dictionary)\n",
      "lsi_c = lsi[corpus_tfidf]\n",
      "lsi.print_topics(25)"
     ],
     "language": "python",
     "metadata": {},
     "outputs": [
      {
       "metadata": {},
       "output_type": "pyout",
       "prompt_number": 4,
       "text": [
        "[u'-0.504*\"hiv\" + -0.245*\"satisfaction\" + -0.219*\"changes\" + -0.147*\"positive\" + -0.144*\"programs\" + -0.140*\"make\" + -0.139*\"   \" + -0.116*\"important\" + -0.114*\"     \" + -0.105*\"patient\"',\n",
        " u'0.270*\"section\" + 0.169*\"press\" + 0.152*\"reduction\" + 0.150*\"child\" + 0.149*\"clinical\" + 0.143*\"inpatient\" + 0.118*\"mean\" + 0.117*\"experience\" + 0.115*\"margin\" + -0.115*\"hiv\"',\n",
        " u'-0.243*\"child\" + 0.206*\"section\" + -0.177*\"plan\" + -0.151*\"10\" + -0.139*\"cahps\" + 0.129*\"press\" + 0.119*\"reduction\" + -0.113*\"provider\" + -0.108*\"plans\" + -0.107*\"0\"',\n",
        " u'-0.382*\"satisfied\" + -0.354*\"eol\" + -0.209*\"canhelp\" + -0.197*\"month\" + -0.177*\"canadian\" + -0.177*\"cancer\" + -0.167*\"evaluation\" + -0.156*\"domain\" + -0.155*\"project\" + -0.146*\"past\"',\n",
        " u'-0.227*\"plan\" + -0.204*\"echo\" + 0.187*\"provider\" + 0.181*\"child\" + -0.171*\"managed\" + 0.169*\"office\" + -0.165*\"plans\" + 0.165*\"pcmh\" + -0.163*\"10\" + 0.153*\"visit\"',\n",
        " u'0.280*\"echo\" + 0.204*\"mbho\" + 0.189*\"behavioral\" + 0.187*\"organization\" + -0.154*\"10\" + 0.154*\"managed\" + -0.142*\"5.0h\" + 0.131*\"enrollment\" + 0.130*\"visit\" + 0.128*\"clinician\"',\n",
        " u'0.237*\"10\" + -0.183*\"echo\" + 0.176*\"hospital\" + -0.169*\"child\" + 0.153*\"visit\" + -0.151*\"experience\" + 0.147*\"0\" + -0.145*\"5.0h\" + 0.141*\"hcahps\" + -0.134*\"mbho\"',\n",
        " u'-0.402*\"hospital\" + -0.325*\"hcahps\" + 0.271*\"10\" + 0.184*\"0\" + -0.168*\"public\" + -0.144*\"hospitals\" + -0.136*\"perspectives\" + 0.119*\"visit\" + 0.118*\"possible\" + -0.113*\"inpatients\"',\n",
        " u'0.322*\"children\" + -0.287*\"10\" + -0.222*\"0\" + -0.210*\"hospital\" + 0.184*\"conditions\" + -0.175*\"possible\" + 0.162*\"chronic\" + -0.161*\"hcahps\" + -0.153*\"rating\" + 0.145*\"plans\"',\n",
        " u'0.290*\"home\" + 0.199*\"children\" + -0.196*\"surgical\" + 0.186*\"pcmh\" + -0.172*\"5.0h\" + -0.171*\"visit\" + -0.149*\"getting\" + -0.140*\"commercial\" + -0.121*\"customer\" + -0.118*\"plan\"',\n",
        " u'0.422*\"case\" + 0.396*\"dental\" + -0.252*\"substance\" + -0.248*\"women\" + 0.208*\"manager\" + -0.201*\"strongly\" + -0.201*\"disagree\" + -0.201*\"agree\" + 0.170*\"management\" + 0.117*\"dentist\"',\n",
        " u'0.616*\"dental\" + -0.282*\"case\" + 0.181*\"women\" + 0.174*\"dentist\" + -0.141*\"manager\" + 0.136*\"pain\" + 0.125*\"shown\" + 0.121*\"anxiety\" + -0.114*\"management\" + 0.113*\"substance\"',\n",
        " u'0.484*\"surgical\" + 0.282*\"surgery\" + 0.253*\"surgeon\" + 0.238*\"women\" + -0.190*\"substance\" + 0.139*\"primary\" + -0.139*\"use\" + -0.134*\"dental\" + 0.133*\"p3c\" + 0.129*\"children\"',\n",
        " u'0.391*\"department\" + 0.333*\"emergency\" + 0.268*\"ed\" + 0.236*\"surgical\" + -0.173*\"reduction\" + 0.166*\"home\" + -0.164*\"inpatient\" + 0.139*\"surgery\" + 0.138*\"          \" + 0.134*\"leave\"',\n",
        " u'-0.354*\"surgical\" + 0.264*\"visit\" + -0.230*\"home\" + 0.227*\"women\" + -0.211*\"surgery\" + -0.184*\"surgeon\" + 0.164*\"department\" + 0.152*\"emergency\" + -0.141*\"substance\" + -0.133*\"pcmh\"',\n",
        " u'0.497*\"women\" + -0.401*\"substance\" + -0.196*\"counselors\" + -0.174*\"child\" + -0.162*\"use\" + -0.141*\"case\" + -0.135*\"engaged\" + -0.131*\"children\" + 0.128*\"female\" + -0.126*\"program\"',\n",
        " u'0.373*\"nursing\" + -0.199*\"child\" + 0.199*\"home\" + 0.190*\"p3c\" + 0.177*\"resident\" + 0.160*\"member\" + -0.147*\"women\" + -0.146*\"case\" + 0.145*\"family\" + -0.139*\"pcmh\"',\n",
        " u'-0.447*\"case\" + -0.327*\"nursing\" + -0.312*\"women\" + -0.226*\"manager\" + -0.190*\"management\" + -0.170*\"agree\" + -0.170*\"strongly\" + -0.170*\"disagree\" + -0.167*\"home\" + -0.156*\"resident\"',\n",
        " u'-0.281*\"case\" + 0.274*\"nursing\" + -0.193*\"p3c\" + 0.188*\"visit\" + -0.185*\"women\" + -0.160*\"substance\" + 0.154*\"mental\" + 0.147*\"home\" + -0.146*\"manager\" + 0.132*\"resident\"',\n",
        " u'-0.308*\"dialysis\" + -0.270*\"hemodialysis\" + -0.230*\"center\" + -0.228*\"in-center\" + -0.167*\"esrd\" + 0.160*\"cultural\" + -0.142*\"nursing\" + 0.123*\"clinician\" + -0.120*\"appointment\" + 0.120*\"plan\"',\n",
        " u'0.299*\"dialysis\" + 0.262*\"hemodialysis\" + 0.224*\"center\" + 0.221*\"in-center\" + 0.163*\"esrd\" + -0.155*\"p3c\" + 0.154*\"cultural\" + 0.145*\"children\" + 0.141*\"conditions\" + 0.116*\"chronic\"',\n",
        " u'-0.292*\"women\" + 0.270*\"agree\" + 0.270*\"disagree\" + 0.270*\"strongly\" + 0.209*\"managed\" + -0.207*\"substance\" + 0.191*\"medicaid\" + 0.187*\"mental\" + -0.142*\"counselors\" + 0.139*\"plan\"',\n",
        " u'-0.467*\"test\" + 0.372*\"child\" + -0.213*\"follow\" + -0.201*\"x-ray\" + -0.194*\"blood\" + -0.171*\"women\" + -0.149*\"children\" + -0.125*\"followed\" + -0.121*\"someone\" + 0.117*\"respondent\"',\n",
        " u'-0.285*\"visit\" + 0.258*\"test\" + 0.242*\"cultural\" + 0.202*\"nursing\" + -0.141*\"taking\" + -0.140*\"prescription\" + 0.138*\"follow\" + -0.130*\"anyone\" + -0.130*\"talk\" + 0.126*\"racial\"',\n",
        " u'0.279*\"child\" + 0.266*\"test\" + -0.191*\"appointment\" + -0.168*\"visit\" + -0.165*\"children\" + -0.163*\"office\" + 0.151*\"follow\" + -0.144*\"needed\" + 0.142*\"talked\" + -0.135*\"clinic\"']"
       ]
      }
     ],
     "prompt_number": 4
    },
    {
     "cell_type": "code",
     "collapsed": false,
     "input": [
      "mmcorp = corpora.MmCorpus('cardio_measures.mm')\n",
      "dictionary = corpora.Dictionary.load('cardio_measures.dict')\n",
      "print(mmcorp)"
     ],
     "language": "python",
     "metadata": {},
     "outputs": [
      {
       "output_type": "stream",
       "stream": "stdout",
       "text": [
        "MmCorpus(307 documents, 3093 features, 37295 non-zero entries)\n"
       ]
      }
     ],
     "prompt_number": 5
    },
    {
     "cell_type": "code",
     "collapsed": false,
     "input": [
      "tfidf = models.TfidfModel(mmcorp)\n",
      "corpus_tfidf = tfidf[mmcorp]\n",
      "lsi = models.LsiModel(corpus=corpus_tfidf, id2word=dictionary)\n",
      "lsi_c = lsi[corpus_tfidf]\n",
      "lsi.print_topics(25)"
     ],
     "language": "python",
     "metadata": {},
     "outputs": [
      {
       "metadata": {},
       "output_type": "pyout",
       "prompt_number": 6,
       "text": [
        "[u'0.215*\"functional\" + 0.181*\"communication\" + 0.164*\"fcm\" + 0.155*\"stroke\" + 0.118*\"level\" + 0.118*\"pressure\" + 0.114*\"blood\" + 0.104*\"language\" + 0.103*\"coronary\" + 0.101*\"speech\"',\n",
        " u'0.389*\"functional\" + 0.317*\"fcm\" + 0.309*\"communication\" + 0.200*\"language\" + 0.193*\"speech\" + 0.186*\"swallowing\" + 0.179*\"level\" + 0.121*\"progress\" + 0.119*\"model\" + 0.116*\"16\"',\n",
        " u'0.313*\"critical\" + 0.265*\"intensive\" + 0.233*\"medicine\" + -0.185*\"pressure\" + -0.169*\"blood\" + 0.168*\"healthcare\" + 0.166*\"quality\" + 0.164*\"come\" + 0.153*\"syndrome\" + 0.140*\"limited\"',\n",
        " u'-0.262*\"pressure\" + -0.228*\"blood\" + -0.184*\"hypertension\" + 0.156*\"vte\" + 0.151*\"venous\" + 0.146*\"ami\" + -0.141*\"critical\" + 0.128*\"thromboembolism\" + -0.118*\"intensive\" + -0.117*\"mmhg\"',\n",
        " u'-0.342*\"cr\" + -0.320*\"rehabilitation\" + -0.273*\"program(s\" + -0.245*\"cardiac\" + -0.225*\"system\" + -0.184*\"performance\" + -0.173*\"meet\" + -0.166*\"healthcare\" + 0.128*\"venous\" + 0.127*\"vte\"',\n",
        " u'0.257*\"venous\" + 0.255*\"vte\" + 0.209*\"thromboembolism\" + -0.205*\"ami\" + 0.199*\"heparin\" + -0.150*\"arrival\" + 0.149*\"cr\" + 0.146*\"rehabilitation\" + -0.140*\"infarction\" + -0.137*\"myocardial\"',\n",
        " u'0.244*\"volume\" + 0.244*\"indicator\" + 0.195*\"hospitals\" + 0.146*\"literature\" + 0.143*\"area\" + 0.142*\"procedures\" + 0.137*\"may\" + 0.133*\"concern\" + 0.127*\"cabg\" + 0.118*\"procedure\"',\n",
        " u'0.258*\"ace\" + 0.196*\"failure\" + 0.183*\"ventricular\" + 0.167*\"inhibitors\" + -0.146*\"ami\" + -0.141*\"arrival\" + 0.140*\"angiotensin\" + 0.136*\"receptor\" + 0.130*\"heart\" + -0.127*\"ed\"',\n",
        " u'0.355*\"stroke\" + 0.278*\"ischemic\" + -0.169*\"ami\" + 0.169*\"tpa\" + -0.138*\"venous\" + 0.136*\"activator\" + 0.136*\"plasminogen\" + 0.132*\"tissue\" + -0.131*\"vte\" + -0.122*\"heparin\"',\n",
        " u'0.215*\"ace\" + -0.204*\"chd\" + -0.157*\"et\" + -0.156*\"al\" + 0.150*\"ventricular\" + 0.140*\"failure\" + 0.135*\"inhibitors\" + -0.124*\"2002\" + 0.123*\"left\" + 0.118*\"lvef\"',\n",
        " u'0.219*\"artery\" + -0.198*\"af\" + 0.193*\"stable\" + -0.190*\"atrial\" + 0.187*\"coronary\" + 0.154*\"education\" + -0.141*\"fibrillation\" + 0.125*\"depression\" + -0.119*\"ami\" + 0.117*\"smoking\"',\n",
        " u'-0.182*\"atrial\" + -0.176*\"af\" + 0.172*\"et\" + 0.171*\"al\" + 0.152*\"ami\" + -0.142*\"smoking\" + -0.141*\"pci\" + -0.129*\"fibrillation\" + 0.119*\"2002\" + -0.109*\"fibrinolytic\"',\n",
        " u'-0.212*\"atrial\" + -0.184*\"af\" + -0.175*\"warfarin\" + 0.156*\"ckd\" + 0.153*\"pad\" + -0.145*\"fibrillation\" + 0.143*\"vte\" + 0.128*\"dvt\" + -0.127*\"anticoagulation\" + 0.115*\"prophylaxis\"',\n",
        " u'0.188*\"readmission\" + 0.179*\"ami\" + 0.158*\"risk-standardized\" + -0.149*\"volume\" + -0.139*\"et\" + -0.135*\"al\" + 0.128*\"services\" + 0.125*\"failure\" + -0.115*\"2002\" + 0.111*\"education\"',\n",
        " u'0.174*\"heparin\" + 0.170*\"services\" + 0.149*\"aspirin\" + 0.149*\"ckd\" + -0.148*\"failure\" + -0.130*\"dvt\" + -0.129*\"contractor\" + -0.119*\"vte\" + 0.115*\"diabetes\" + 0.114*\"kidney\"',\n",
        " u'-0.192*\"heparin\" + 0.150*\"foot\" + 0.143*\"compression\" + 0.140*\"dvt\" + -0.139*\"tpa\" + -0.139*\"pad\" + 0.133*\"diabetes\" + 0.132*\"measurement\" + -0.125*\"hospitalized\" + 0.120*\"atrial\"',\n",
        " u'0.230*\"services\" + -0.192*\"diabetes\" + 0.163*\"aspirin\" + 0.159*\"pci\" + 0.149*\"preventive\" + 0.131*\"procedures\" + -0.129*\"foot\" + 0.128*\"surgery\" + 0.126*\"cabg\" + 0.122*\"volume\"',\n",
        " u'0.186*\"ami\" + -0.181*\"failure\" + 0.167*\"ckd\" + -0.142*\"heparin\" + -0.136*\"foot\" + 0.130*\"advanced\" + -0.114*\"contractor\" + -0.110*\"exam\" + 0.108*\"artery\" + -0.108*\"eye\"',\n",
        " u'-0.396*\"aspirin\" + 0.165*\"readmission\" + 0.156*\"ckd\" + 0.146*\"risk-standardized\" + 0.132*\"pci\" + 0.129*\"advanced\" + -0.117*\"indicator\" + 0.099*\"readmissions\" + -0.089*\"79\" + 0.087*\"heart\"',\n",
        " u'-0.181*\"surgery\" + -0.171*\"hospitalized\" + 0.152*\"services\" + -0.150*\"foot\" + 0.138*\"preventive\" + -0.127*\"heparin\" + 0.126*\"up-to-date\" + 0.126*\"high-priority\" + 0.108*\"volume\" + 0.107*\"failure\"',\n",
        " u'0.218*\"volume\" + -0.145*\"stroke\" + -0.141*\"ace\" + 0.134*\"procedures\" + 0.129*\"aspirin\" + -0.124*\"services\" + 0.111*\"pad\" + 0.111*\"tpa\" + -0.109*\"outpatient\" + -0.101*\"area\"',\n",
        " u'0.166*\"contractor\" + -0.151*\"heparin\" + 0.136*\"ace\" + -0.135*\"failure\" + -0.131*\"smoking\" + 0.123*\"tpa\" + -0.120*\"pad\" + -0.116*\"      \" + 0.115*\"establishes\" + 0.115*\"maintains\"',\n",
        " u'0.227*\"heparin\" + 0.157*\"volume\" + 0.149*\"ischemic\" + 0.139*\"stroke\" + -0.135*\"af\" + 0.129*\"tia\" + -0.120*\"ckd\" + 0.118*\"transient\" + -0.112*\"      \" + 0.111*\"low-molecular-weight\"',\n",
        " u'0.181*\"depression\" + 0.175*\"smoking\" + 0.155*\"et\" + 0.151*\"al\" + -0.141*\"mg/dl\" + -0.127*\"mg\" + -0.123*\"compression\" + 0.119*\"prophylaxis\" + 0.112*\"hospitalized\" + 0.108*\"services\"',\n",
        " u'-0.174*\"tourniquet\" + -0.166*\"pneumatic\" + -0.151*\"foot\" + -0.132*\"      \" + -0.124*\"surgical\" + -0.121*\"af\" + -0.119*\"procedures\" + -0.116*\"aspirin\" + -0.115*\"contractor\" + -0.114*\"hospitalized\"']"
       ]
      }
     ],
     "prompt_number": 6
    }
   ],
   "metadata": {}
  }
 ]
}