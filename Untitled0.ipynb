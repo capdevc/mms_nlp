{
 "metadata": {
  "name": "",
  "signature": "sha256:3c74ae3a752000afbf97ac3ba913828ce9f4e5ad7345f5687384f2763bf5a22c"
 },
 "nbformat": 3,
 "nbformat_minor": 0,
 "worksheets": [
  {
   "cells": [
    {
     "cell_type": "code",
     "collapsed": false,
     "input": [
      "from __future__ import unicode_literals # If Python 2\n",
      "from spacy.en import English\n",
      "nlp = English(data_dir=\"/home/cc/anaconda/lib/python2.7/site-packages/spacy/en/data\")\n",
      "tokens = nlp(u'I ate the pizza with anchovies.')\n",
      "pizza = tokens[3]\n",
      "(pizza.orth, pizza.orth_, pizza.head.lemma, pizza.head.lemma_)"
     ],
     "language": "python",
     "metadata": {},
     "outputs": [
      {
       "metadata": {},
       "output_type": "pyout",
       "prompt_number": 1,
       "text": [
        "(14702, u'pizza', 669, u'eat')"
       ]
      }
     ],
     "prompt_number": 1
    },
    {
     "cell_type": "code",
     "collapsed": false,
     "input": [
      "for token in tokens:\n",
      "    print token.orth, token.orth_, token.head.lemma_, token.repvec[:4]"
     ],
     "language": "python",
     "metadata": {},
     "outputs": [
      {
       "output_type": "stream",
       "stream": "stdout",
       "text": [
        "57 I eat [ 0.  0.  0.  0.]\n",
        "216 ate eat [ 0.  0.  0.  0.]\n",
        "2 the pizza [ 0.  0.  0.  0.]\n",
        "14702 pizza eat [ 0.  0.  0.  0.]\n",
        "36 with eat [ 0.  0.  0.  0.]\n",
        "62844 anchovies with [ 0.  0.  0.  0.]\n",
        "5 . eat [ 0.  0.  0.  0.]\n"
       ]
      }
     ],
     "prompt_number": 2
    },
    {
     "cell_type": "code",
     "collapsed": false,
     "input": [
      "tokens = nlp(u'This measure is used to assess the percentage of patients age 18 years and older initially presenting with acute ischemic stroke who are mobilized from bed within 24 hours of admission.The priority aim addressed by this measure is to increase the percentage of stroke patients age 18 years and over who receive appropriate medical management within the initial 24 to 48 hours of diagnosis for prevention of complications such as:        Dehydration       Aspiration       Hypoglycemia and hyperglycemia       Deep vein thrombosis       Immobility       Falling       Nutritional status decline       Hyperthermia     Stroke is the fourth leading cause of death, recently dropping from third after decades long efforts to reduce incidence by treatment of risk factors. It remains the leading cause of disability among adults. Costs of hospitalizations, other cares and lost wages are simply enormous.  Early mobilization within 24 hours of admission, in the form of early initiation of appropriate rehabilitation swivels or other nursing intervention, is advocated for the purpose of preventing complications related to immobility, including deep vein thrombosis, contractures, joint disorders, and pressure sores/decubitus ulcers. Randomized controlled trials have demonstrated improved functional outcomes with mobilization in the first 24 hours following an acute stroke. These studies were both confounded by the duration of therapy for the intervention group receiving approximately 100 more minutes of therapy compared to the control group.\tNumber of patients who are mobilized from bed within 24 hours of admission\tNumber of patients presenting with symptoms of ischemic stroke (see the related \"Denominator Inclusions/Exclusions\" field)')"
     ],
     "language": "python",
     "metadata": {},
     "outputs": [],
     "prompt_number": 4
    },
    {
     "cell_type": "code",
     "collapsed": false,
     "input": [
      "pizza.string.isalnum()"
     ],
     "language": "python",
     "metadata": {},
     "outputs": [
      {
       "metadata": {},
       "output_type": "pyout",
       "prompt_number": 8,
       "text": [
        "False"
       ]
      }
     ],
     "prompt_number": 8
    },
    {
     "cell_type": "code",
     "collapsed": false,
     "input": [],
     "language": "python",
     "metadata": {},
     "outputs": []
    }
   ],
   "metadata": {}
  }
 ]
}