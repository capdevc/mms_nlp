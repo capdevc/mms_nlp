{
 "metadata": {
  "name": "",
  "signature": "sha256:fd220831104f9629c6f2b106d527afcae92a37609c7650eeb56f2d8f9d6090bb"
 },
 "nbformat": 3,
 "nbformat_minor": 0,
 "worksheets": [
  {
   "cells": [
    {
     "cell_type": "code",
     "collapsed": false,
     "input": [
      "from __future__ import unicode_literals, division, print_function\n",
      "import logging\n",
      "import string\n",
      "from spacy.en import English\n",
      "from gensim import corpora, models, similarities\n",
      "from nltk.corpus import stopwords\n",
      "from nqmc_stuff import CorpusStreamer\n",
      "logging.basicConfig(format='%(asctime)s : %(levelname)s : %(message)s', level=logging.INFO)"
     ],
     "language": "python",
     "metadata": {},
     "outputs": [],
     "prompt_number": 1
    },
    {
     "cell_type": "markdown",
     "metadata": {},
     "source": [
      "Convert the measures texts to gensim corpus"
     ]
    },
    {
     "cell_type": "code",
     "collapsed": false,
     "input": [
      "corpus = CorpusStreamer('pe_measures.txt')\n",
      "corpus.save_dict('pe_measures.dict')\n",
      "corpus.save_mm('pe_measures.mm')\n",
      "corpus = CorpusStreamer('cardio_measures.txt')\n",
      "corpus.save_dict('cardio_measures.dict')\n",
      "corpus.save_mm('cardio_measures.mm')"
     ],
     "language": "python",
     "metadata": {},
     "outputs": [
      {
       "output_type": "stream",
       "stream": "stdout",
       "text": [
        "Dictionary(1771 unique tokens: [u'desirable', u'four', u'facilities', u'consists', u'relationships']...)\n",
        "Dictionary(3093 unique tokens: [u'limited', u'extrapolated', u'transitions', u'two-dimensional', u'post-operative']...)"
       ]
      },
      {
       "output_type": "stream",
       "stream": "stdout",
       "text": [
        "\n"
       ]
      }
     ],
     "prompt_number": 2
    },
    {
     "cell_type": "code",
     "collapsed": false,
     "input": [
      "mmcorp = corpora.MmCorpus('pe_measures.mm')\n",
      "dictionary = corpora.Dictionary.load('pe_measures.dict')\n",
      "print(mmcorp)"
     ],
     "language": "python",
     "metadata": {},
     "outputs": [
      {
       "output_type": "stream",
       "stream": "stdout",
       "text": [
        "MmCorpus(403 documents, 1771 features, 55676 non-zero entries)\n"
       ]
      }
     ],
     "prompt_number": 3
    },
    {
     "cell_type": "code",
     "collapsed": false,
     "input": [
      "lda = models.LdaMulticore(corpus=mmcorp, id2word=dictionary, num_topics=25, passes=10, iterations=200)\n",
      "lda_c = lda[mmcorp]\n",
      "lda.print_topics(25)"
     ],
     "language": "python",
     "metadata": {},
     "outputs": [
      {
       "metadata": {},
       "output_type": "pyout",
       "prompt_number": 4,
       "text": [
        "[u'0.051*care + 0.024*patients + 0.023*satisfied + 0.021*eol + 0.019*quality + 0.017*satisfaction + 0.016*health + 0.015*questionnaire + 0.012*canhelp + 0.011*month',\n",
        " u'0.044*care + 0.035*parent + 0.035*children + 0.033*child + 0.025*months + 0.023*parents + 0.022*whose + 0.021*phds + 0.019*developmental + 0.019*health',\n",
        " u'0.001*expands + 0.001*increase + 0.001*ed + 0.001*adequately + 0.001*intended + 0.001*living + 0.001*shown + 0.001*medications + 0.001*factors + 0.001*profit',\n",
        " u'0.036*care + 0.032*       + 0.030*patients + 0.024*survey + 0.018*health + 0.018*communication + 0.016*surgical + 0.015*patient + 0.014*staff + 0.014*cahps',\n",
        " u'0.001*expands + 0.001*increase + 0.001*ed + 0.001*adequately + 0.001*intended + 0.001*living + 0.001*shown + 0.001*medications + 0.001*factors + 0.001*profit',\n",
        " u'0.063*health + 0.033*10 + 0.030*plan + 0.023*survey + 0.023*cahps + 0.023*care + 0.022*plans + 0.022*0 + 0.018*quality + 0.017*possible',\n",
        " u'0.055*dental + 0.031*patients + 0.021*treatment + 0.017*satisfaction + 0.017*patient + 0.016*dentist + 0.016*care + 0.014*pain + 0.013*plan + 0.012*influence',\n",
        " u\"0.056*care + 0.048*home + 0.024*'s + 0.018*primary + 0.018*nursing + 0.017*measure + 0.015*quality + 0.014*family + 0.013*       + 0.013*child\",\n",
        " u'0.062*managing + 0.021*feel + 0.021*effect + 0.015*parenting + 0.011*help + 0.011*things + 0.011*concerns + 0.011*positive + 0.011*confidence + 0.011*e.g',\n",
        " u'0.110*satisfied + 0.059*past + 0.051*       + 0.041*received + 0.037*month + 0.035*management + 0.034*illness + 0.026*relative + 0.025*problems + 0.021*controlled',\n",
        " u'0.046*care + 0.023*quality + 0.022*patient + 0.019*section + 0.019*health + 0.018*patients + 0.017*satisfaction + 0.016*survey + 0.014*clinical + 0.012*press',\n",
        " u'0.028*preventive + 0.026*care + 0.026*health + 0.022*counseling + 0.018*screening + 0.018*     + 0.016*use + 0.016*adolescents + 0.015*alcohol + 0.014*activity',\n",
        " u'0.036*care + 0.028*medical + 0.025*patients + 0.025*survey + 0.020*dialysis + 0.020*model + 0.019*patient-centered + 0.019*pcmh + 0.017*cahps + 0.016*providers',\n",
        " u'0.101*care + 0.051*family + 0.038*unit + 0.035*intensive + 0.035*satisfaction + 0.017*important + 0.016*fs-icu + 0.016*icu + 0.016*24 + 0.015*families',\n",
        " u'0.034*provider + 0.032*care + 0.029*providers + 0.025*health + 0.024*survey + 0.020*questions + 0.018*visit + 0.018*       + 0.018*cahps + 0.017*patients',\n",
        " u'0.078*health + 0.052*care + 0.044*behavioral + 0.030*quality + 0.022*treatment + 0.019*survey + 0.019*echo + 0.017*managed + 0.016*providers + 0.016*ratings',\n",
        " u\"0.039*care + 0.028*child + 0.028*'s + 0.026*experience + 0.025*health + 0.022*question + 0.018*cahps + 0.018*measure + 0.015*survey + 0.015*      \",\n",
        " u'0.061*children + 0.050*chronic + 0.045*health + 0.045*conditions + 0.042*care + 0.022*parents + 0.018*plans + 0.016*quality + 0.016*information + 0.015*survey',\n",
        " u'0.057*medication + 0.044*scale + 0.043*satisfaction + 0.041*tsqm + 0.033*effects + 0.033*side + 0.031*treatment + 0.024*patients + 0.024*effectiveness + 0.023*items',\n",
        " u'0.039*care + 0.035*hospital + 0.034*survey + 0.025*patients + 0.021*public + 0.021*information + 0.019*hcahps + 0.018*healthcare + 0.017*reporting + 0.016*emergency',\n",
        " u'0.044*satisfaction + 0.037*patients + 0.036*hiv + 0.030*health + 0.028*care + 0.028*patient + 0.022*measure + 0.020*    + 0.016*changes + 0.016*quality',\n",
        " u'0.074*medicine + 0.060*talked + 0.050*prescription + 0.042*shared + 0.042*decision + 0.042*making + 0.039*reasons + 0.039*starting + 0.039*stopping + 0.036*take',\n",
        " u'0.044*satisfaction + 0.038*hiv + 0.035*patients + 0.030*care + 0.028*patient + 0.026*health + 0.022*measure + 0.021*    + 0.017*important + 0.017*quality',\n",
        " u'0.001*expands + 0.001*increase + 0.001*ed + 0.001*adequately + 0.001*intended + 0.001*living + 0.001*shown + 0.001*medications + 0.001*factors + 0.001*profit',\n",
        " u'0.001*expands + 0.001*increase + 0.001*ed + 0.001*adequately + 0.001*intended + 0.001*living + 0.001*shown + 0.001*medications + 0.001*factors + 0.001*profit']"
       ]
      }
     ],
     "prompt_number": 4
    },
    {
     "cell_type": "code",
     "collapsed": false,
     "input": [
      "mmcorp = corpora.MmCorpus('cardio_measures.mm')\n",
      "dictionary = corpora.Dictionary.load('cardio_measures.dict')\n",
      "print(mmcorp)"
     ],
     "language": "python",
     "metadata": {},
     "outputs": [
      {
       "output_type": "stream",
       "stream": "stdout",
       "text": [
        "MmCorpus(307 documents, 3093 features, 37295 non-zero entries)\n"
       ]
      }
     ],
     "prompt_number": 5
    },
    {
     "cell_type": "code",
     "collapsed": false,
     "input": [
      "lda = models.LdaMulticore(corpus=mmcorp, id2word=dictionary, num_topics=25, passes=10, iterations=200)\n",
      "lda_c = lda[mmcorp]\n",
      "lda.print_topics(25)"
     ],
     "language": "python",
     "metadata": {},
     "outputs": [
      {
       "metadata": {},
       "output_type": "pyout",
       "prompt_number": 6,
       "text": [
        "[u'0.043*patients + 0.028*venous + 0.025*vte + 0.020*thromboembolism + 0.017*older + 0.016*years + 0.015*age + 0.015*heparin + 0.015*18 + 0.013*measure',\n",
        " u'0.031*patients + 0.017*stroke + 0.016*et + 0.016*al + 0.011*ischemic + 0.009*measure + 0.009*clinical + 0.009*depression + 0.008*care + 0.007*day',\n",
        " u'0.030*patients + 0.028*       + 0.024*years + 0.023*stroke + 0.021*age + 0.019*risk + 0.019*services + 0.018*preventive + 0.013*number + 0.012*measure',\n",
        " u\"0.034*cardiac + 0.033*cr + 0.031*rehabilitation + 0.028*measure + 0.023*healthcare + 0.023*patients + 0.018*performance + 0.017*system + 0.016*cardiovascular + 0.013*'s\",\n",
        " u'0.092*warfarin + 0.061*anticoagulation + 0.059*inr + 0.044*normalized + 0.042*international + 0.041*therapy + 0.041*ratio + 0.023*patients + 0.022*thromboembolism + 0.014*received',\n",
        " u'0.000*ischaemic + 0.000*americans + 0.000*diagnostic + 0.000*inhaled + 0.000*million + 0.000*postoperative + 0.000*shows + 0.000*assurance + 0.000*correct + 0.000*hemorrhagic',\n",
        " u'0.026*volume + 0.019*procedures + 0.016*hospitals + 0.015*performed + 0.011*percent + 0.010*measure + 0.010*aspirin + 0.010*years + 0.010*pci + 0.009*risk',\n",
        " u'0.050*blood + 0.049*pressure + 0.034*hypertension + 0.030*number + 0.029*patients + 0.028*age + 0.022*disease + 0.019*control + 0.018*years + 0.017*18',\n",
        " u'0.041*patients + 0.038*disease + 0.030*coronary + 0.024*artery + 0.018*stable + 0.018*heart + 0.017*years + 0.017*risk + 0.016*older + 0.015*age',\n",
        " u'0.000*ischaemic + 0.000*americans + 0.000*diagnostic + 0.000*inhaled + 0.000*million + 0.000*postoperative + 0.000*shows + 0.000*assurance + 0.000*correct + 0.000*hemorrhagic',\n",
        " u'0.035*patients + 0.024*measure + 0.021*functional + 0.020*communication + 0.020*blood + 0.019*pressure + 0.016*treatment + 0.016*level + 0.015*fcm + 0.014*one',\n",
        " u'0.037*year + 0.031*measurement + 0.022*diabetes + 0.019*measure + 0.018*value + 0.017*members + 0.014*measures + 0.013*set + 0.013*quality + 0.013*used',\n",
        " u'0.042*care + 0.031*patients + 0.025*quality + 0.019*critical + 0.015*acute + 0.015*number + 0.015*intensive + 0.014*measure + 0.013*healthcare + 0.013*field',\n",
        " u'0.000*ischaemic + 0.000*americans + 0.000*diagnostic + 0.000*inhaled + 0.000*million + 0.000*postoperative + 0.000*shows + 0.000*assurance + 0.000*correct + 0.000*hemorrhagic',\n",
        " u'0.026*patients + 0.021*failure + 0.018*heart + 0.015*symptoms + 0.012*patient + 0.011*treatment + 0.010*aged + 0.010*clinical + 0.010*diagnosis + 0.010*care',\n",
        " u'0.040*patients + 0.018*heart + 0.017*failure + 0.017*ventricular + 0.016*ace + 0.015*left + 0.015*angiotensin + 0.014*inhibitors + 0.014*enzyme + 0.014*receptor',\n",
        " u'0.045*diabetes + 0.018*measure + 0.014*ckd + 0.014*disease + 0.014*stage + 0.013*exam + 0.011*type + 0.011*3 + 0.011*eye + 0.010*foot',\n",
        " u'0.025*indicator + 0.024*care + 0.022*may + 0.010*hospital + 0.010*hospitals + 0.010*patient + 0.009*hf + 0.009*cases + 0.009*rates + 0.009*  ',\n",
        " u'0.028*patients + 0.021*smoking + 0.016*risk + 0.014*pad + 0.014*disease + 0.012*guideline + 0.012*health + 0.011*nice + 0.010*cvd + 0.010*clinical',\n",
        " u'0.031*patients + 0.028*stroke + 0.022*risk + 0.013*disease + 0.011*ischemic + 0.010*treatment + 0.010*therapy + 0.009*       + 0.009*heart + 0.008*factors',\n",
        " u'0.035*patients + 0.024*contractor + 0.024*disease + 0.023*care + 0.023*diagnosis + 0.017*register + 0.016*dementia + 0.016*population + 0.016*heart + 0.015*establishes',\n",
        " u'0.024*volume + 0.021*repair + 0.021*indicator + 0.019*aaa + 0.015*mortality + 0.014*hospitals + 0.012*percent + 0.011*literature + 0.010*aneurysm + 0.009*measure',\n",
        " u'0.036*patients + 0.030*infarction + 0.030*ami + 0.029*myocardial + 0.027*acute + 0.025*arrival + 0.024*time + 0.018*hospital + 0.017*ed + 0.017*therapy',\n",
        " u'0.022*disease + 0.020*coronary + 0.020*beta-blocker + 0.019*prior + 0.019*artery + 0.019*mortality + 0.018*patients + 0.018*period + 0.014*field + 0.013*month',\n",
        " u'0.069*stroke + 0.026*care + 0.026*20 + 0.020*mortality + 0.019*hospital + 0.019*death + 0.018*heart + 0.016*leading + 0.016*days + 0.015*acute']"
       ]
      }
     ],
     "prompt_number": 6
    }
   ],
   "metadata": {}
  }
 ]
}