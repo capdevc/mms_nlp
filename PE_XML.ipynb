{
 "metadata": {
  "name": "",
  "signature": "sha256:aa7ca483c41c09dcc3767e10d3b0d276531e1fe658eda6a1e5f6e523bb2fa490"
 },
 "nbformat": 3,
 "nbformat_minor": 0,
 "worksheets": [
  {
   "cells": [
    {
     "cell_type": "code",
     "collapsed": false,
     "input": [
      "import os\n",
      "import re\n",
      "import xml.etree.ElementTree as ET\n",
      "from HTMLParser import HTMLParser\n",
      "\n",
      "class MLStripper(HTMLParser):\n",
      "    def __init__(self):\n",
      "        self.reset()\n",
      "        self.fed = []\n",
      "    def handle_data(self, d):\n",
      "        self.fed.append(d)\n",
      "    def get_data(self):\n",
      "        return ''.join(self.fed)\n",
      "\n",
      "def strip_stuff(html):\n",
      "    s = MLStripper()\n",
      "    s.feed(html)\n",
      "    return re.sub('[\\t\\n\\r]',' ',s.unescape(s.get_data()))\n",
      "\n",
      "def parse_rec(filename):\n",
      "    measure_id = filename[:filename.find(\"xml\") -1]\n",
      "    summary = \"\"\n",
      "    numerator = \"\"\n",
      "    denominator = \"\"\n",
      "    source_ids = list()\n",
      "    evidence_ids = list()\n",
      "    \n",
      "    tree = ET.parse(\"cardio/\" + filename)\n",
      "    root = tree.getroot()\n",
      "\n",
      "    for child in root.iter():\n",
      "        if child.get(\"Name\") == \"Brief Abstract\":\n",
      "            for rec in child:\n",
      "                if rec.get(\"Name\") in [\"Description\", \"Rationale\"]:\n",
      "                    summary += strip_stuff(rec[0].get(\"Value\"))\n",
      "        elif child.get(\"Name\") == \"Denominator Description\":\n",
      "            denominator = strip_stuff(child[0].get(\"Value\"))\n",
      "        elif child.get(\"Name\") == \"Numerator Description\":\n",
      "            numerator = strip_stuff(child[0].get(\"Value\"))\n",
      "        elif child.get(\"Type\") == \"citation\" and \"source\" in child.get(\"Name\").lower():\n",
      "            for rec in child:\n",
      "                if \"list_uids\" in rec.get(\"Value\"):\n",
      "                    m = re.search(r\"list_uids=(\\d+)\\\"\", rec.get(\"Value\"))\n",
      "                    source_ids.append(m.group(1))\n",
      "        elif child.get(\"Type\") == \"citation\" and \"evidence\" in child.get(\"Name\").lower():\n",
      "            for rec in child:\n",
      "                if \"list_uids\" in rec.get(\"Value\"):\n",
      "                    m = re.search(r\"list_uids=(\\d+)\\\"\", rec.get(\"Value\"))\n",
      "                    evidence_ids.append(m.group(1))\n",
      "    return measure_id, summary, numerator, denominator, source_ids, evidence_ids\n"
     ],
     "language": "python",
     "metadata": {},
     "outputs": [],
     "prompt_number": 1
    },
    {
     "cell_type": "code",
     "collapsed": false,
     "input": [
      "with open(\"cardio_measures.csv\", \"w\") as ofile:\n",
      "    for i, filename in enumerate(os.listdir(os.getcwd() + \"/cardio/\")):\n",
      "        print(i, filename)\n",
      "        m, s, n, d, si, ei = parse_rec(filename)\n",
      "        st = \"0\" if not si else \",\".join(si)\n",
      "        et = \"0\" if not ei else \",\".join(ei)\n",
      "        ofile.write(m + \"\\t\"+ s + \"\\t\" + n + \"\\t\" + d + \"\\t\" + st + \"\\t\" + et + \"\\n\")\n",
      "    "
     ],
     "language": "python",
     "metadata": {},
     "outputs": [
      {
       "output_type": "stream",
       "stream": "stdout",
       "text": [
        "(0, 'NQMC-8331.xml')\n",
        "(1, 'NQMC-8826.xml')\n",
        "(2, 'NQMC-8006.xml')\n",
        "(3, 'NQMC-4413.xml')\n",
        "(4, 'NQMC-8442.xml')\n",
        "(5, 'NQMC-8845.xml')\n",
        "(6, 'NQMC-8128.xml')\n",
        "(7, 'NQMC-8014.xml')\n",
        "(8, 'NQMC-8016.xml')\n",
        "(9, 'NQMC-8054.xml')\n",
        "(10, 'NQMC-8863.xml')\n",
        "(11, 'NQMC-8310.xml')\n",
        "(12, 'NQMC-8345.xml')"
       ]
      },
      {
       "output_type": "stream",
       "stream": "stdout",
       "text": [
        "\n",
        "(13, 'NQMC-9409.xml')\n",
        "(14, 'NQMC-8127.xml')\n",
        "(15, 'NQMC-8354.xml')\n",
        "(16, 'NQMC-4426.xml')\n",
        "(17, 'NQMC-8823.xml')\n",
        "(18, 'NQMC-2950.xml')\n",
        "(19, 'NQMC-9417.xml')\n",
        "(20, 'NQMC-8349.xml')\n",
        "(21, 'NQMC-2906.xml')\n",
        "(22, 'NQMC-4416.xml')\n",
        "(23, 'NQMC-9410.xml')\n",
        "(24, 'NQMC-9712.xml')\n",
        "(25, 'NQMC-9466.xml')\n",
        "(26, 'NQMC-9471.xml')"
       ]
      },
      {
       "output_type": "stream",
       "stream": "stdout",
       "text": [
        "\n",
        "(27, 'NQMC-8136.xml')\n",
        "(28, 'NQMC-4428.xml')\n",
        "(29, 'NQMC-9534.xml')\n",
        "(30, 'NQMC-8084.xml')\n",
        "(31, 'NQMC-8330.xml')\n",
        "(32, 'NQMC-8315.xml')\n",
        "(33, 'NQMC-8077.xml')\n",
        "(34, 'NQMC-2909.xml')\n",
        "(35, 'NQMC-8320.xml')\n",
        "(36, 'NQMC-8440.xml')\n",
        "(37, 'NQMC-8471.xml')\n",
        "(38, 'NQMC-9412.xml')\n",
        "(39, 'NQMC-8073.xml')\n",
        "(40, 'NQMC-3776.xml')\n",
        "(41, 'NQMC-8821.xml')"
       ]
      },
      {
       "output_type": "stream",
       "stream": "stdout",
       "text": [
        "\n",
        "(42, 'NQMC-9375.xml')\n",
        "(43, 'NQMC-9286.xml')\n",
        "(44, 'NQMC-4424.xml')\n",
        "(45, 'NQMC-4419.xml')\n",
        "(46, 'NQMC-6321.xml')\n",
        "(47, 'NQMC-8864.xml')\n",
        "(48, 'NQMC-8866.xml')\n",
        "(49, 'NQMC-4197.xml')\n",
        "(50, 'NQMC-9508.xml')\n",
        "(51, 'NQMC-3781.xml')\n",
        "(52, 'NQMC-8820.xml')\n",
        "(53, 'NQMC-9296.xml')\n",
        "(54, 'NQMC-8825.xml')\n",
        "(55, 'NQMC-9253.xml')"
       ]
      },
      {
       "output_type": "stream",
       "stream": "stdout",
       "text": [
        "\n",
        "(56, 'NQMC-8468.xml')\n",
        "(57, 'NQMC-8007.xml')\n",
        "(58, 'NQMC-8347.xml')\n",
        "(59, 'NQMC-9107.xml')\n",
        "(60, 'NQMC-8344.xml')\n",
        "(61, 'NQMC-7230.xml')\n",
        "(62, 'NQMC-9505.xml')\n",
        "(63, 'NQMC-8352.xml')\n",
        "(64, 'NQMC-9503.xml')\n",
        "(65, 'NQMC-9140.xml')\n",
        "(66, 'NQMC-4430.xml')\n",
        "(67, 'NQMC-9403.xml')\n",
        "(68, 'NQMC-8004.xml')"
       ]
      },
      {
       "output_type": "stream",
       "stream": "stdout",
       "text": [
        "\n",
        "(69, 'NQMC-8324.xml')\n",
        "(70, 'NQMC-2951.xml')\n",
        "(71, 'NQMC-8328.xml')\n",
        "(72, 'NQMC-9391.xml')\n",
        "(73, 'NQMC-351.xml')\n",
        "(74, 'NQMC-7229.xml')\n",
        "(75, 'NQMC-9715.xml')\n",
        "(76, 'NQMC-8055.xml')\n",
        "(77, 'NQMC-8439.xml')\n",
        "(78, 'NQMC-4415.xml')\n",
        "(79, 'NQMC-9415.xml')\n",
        "(80, 'NQMC-9293.xml')\n",
        "(81, 'NQMC-8870.xml')\n",
        "(82, 'NQMC-3773.xml')"
       ]
      },
      {
       "output_type": "stream",
       "stream": "stdout",
       "text": [
        "\n",
        "(83, 'NQMC-8908.xml')\n",
        "(84, 'NQMC-9306.xml')\n",
        "(85, 'NQMC-7234.xml')\n",
        "(86, 'NQMC-8326.xml')\n",
        "(87, 'NQMC-9650.xml')\n",
        "(88, 'NQMC-8859.xml')\n",
        "(89, 'NQMC-9133.xml')\n",
        "(90, 'NQMC-8935.xml')\n",
        "(91, 'NQMC-7226.xml')\n",
        "(92, 'NQMC-352.xml')\n",
        "(93, 'NQMC-8809.xml')\n",
        "(94, 'NQMC-8441.xml')\n",
        "(95, 'NQMC-9454.xml')\n",
        "(96, 'NQMC-7231.xml')"
       ]
      },
      {
       "output_type": "stream",
       "stream": "stdout",
       "text": [
        "\n",
        "(97, 'NQMC-8058.xml')\n",
        "(98, 'NQMC-8462.xml')\n",
        "(99, 'NQMC-8063.xml')\n",
        "(100, 'NQMC-8857.xml')\n",
        "(101, 'NQMC-3778.xml')\n",
        "(102, 'NQMC-8332.xml')\n",
        "(103, 'NQMC-4429.xml')\n",
        "(104, 'NQMC-4420.xml')\n",
        "(105, 'NQMC-9396.xml')\n",
        "(106, 'NQMC-8342.xml')\n",
        "(107, 'NQMC-9401.xml')\n",
        "(108, 'NQMC-4422.xml')\n",
        "(109, 'NQMC-6904.xml')\n",
        "(110, 'NQMC-8017.xml')"
       ]
      },
      {
       "output_type": "stream",
       "stream": "stdout",
       "text": [
        "\n",
        "(111, 'NQMC-3786.xml')\n",
        "(112, 'NQMC-8941.xml')\n",
        "(113, 'NQMC-8437.xml')\n",
        "(114, 'NQMC-9801.xml')\n",
        "(115, 'NQMC-8003.xml')\n",
        "(116, 'NQMC-8435.xml')\n",
        "(117, 'NQMC-9413.xml')\n",
        "(118, 'NQMC-7236.xml')\n",
        "(119, 'NQMC-9465.xml')\n",
        "(120, 'NQMC-8901.xml')\n",
        "(121, 'NQMC-8321.xml')\n",
        "(122, 'NQMC-6147.xml')\n",
        "(123, 'NQMC-8355.xml')"
       ]
      },
      {
       "output_type": "stream",
       "stream": "stdout",
       "text": [
        "\n",
        "(124, 'NQMC-8865.xml')\n",
        "(125, 'NQMC-4432.xml')\n",
        "(126, 'NQMC-9029.xml')\n",
        "(127, 'NQMC-9507.xml')\n",
        "(128, 'NQMC-9134.xml')\n",
        "(129, 'NQMC-9402.xml')\n",
        "(130, 'NQMC-8934.xml')\n",
        "(131, 'NQMC-7243.xml')\n",
        "(132, 'NQMC-8434.xml')\n",
        "(133, 'NQMC-4986.xml')\n",
        "(134, 'NQMC-7238.xml')\n",
        "(135, 'NQMC-9414.xml')\n",
        "(136, 'NQMC-8868.xml')"
       ]
      },
      {
       "output_type": "stream",
       "stream": "stdout",
       "text": [
        "\n",
        "(137, 'NQMC-7241.xml')\n",
        "(138, 'NQMC-3160.xml')\n",
        "(139, 'NQMC-9399.xml')\n",
        "(140, 'NQMC-4987.xml')\n",
        "(141, 'NQMC-9294.xml')\n",
        "(142, 'NQMC-9378.xml')\n",
        "(143, 'NQMC-8348.xml')\n",
        "(144, 'NQMC-8933.xml')\n",
        "(145, 'NQMC-9439.xml')\n",
        "(146, 'NQMC-8445.xml')\n",
        "(147, 'NQMC-9529.xml')\n",
        "(148, 'NQMC-8064.xml')\n",
        "(149, 'NQMC-8869.xml')\n",
        "(150, 'NQMC-8862.xml')\n",
        "(151, 'NQMC-9400.xml')"
       ]
      },
      {
       "output_type": "stream",
       "stream": "stdout",
       "text": [
        "\n",
        "(152, 'NQMC-9530.xml')\n",
        "(153, 'NQMC-4952.xml')\n",
        "(154, 'NQMC-9050.xml')\n",
        "(155, 'NQMC-9397.xml')\n",
        "(156, 'NQMC-8125.xml')\n",
        "(157, 'NQMC-8971.xml')\n",
        "(158, 'NQMC-2943.xml')\n",
        "(159, 'NQMC-9533.xml')\n",
        "(160, 'NQMC-7242.xml')\n",
        "(161, 'NQMC-8860.xml')\n",
        "(162, 'NQMC-7240.xml')\n",
        "(163, 'NQMC-8008.xml')"
       ]
      },
      {
       "output_type": "stream",
       "stream": "stdout",
       "text": [
        "\n",
        "(164, 'NQMC-9404.xml')\n",
        "(165, 'NQMC-8317.xml')\n",
        "(166, 'NQMC-8939.xml')\n",
        "(167, 'NQMC-9532.xml')\n",
        "(168, 'NQMC-4195.xml')\n",
        "(169, 'NQMC-8133.xml')\n",
        "(170, 'NQMC-4433.xml')\n",
        "(171, 'NQMC-2908.xml')\n",
        "(172, 'NQMC-8945.xml')\n",
        "(173, 'NQMC-9287.xml')\n",
        "(174, 'NQMC-4427.xml')\n",
        "(175, 'NQMC-9800.xml')\n",
        "(176, 'NQMC-8005.xml')\n",
        "(177, 'NQMC-8936.xml')\n",
        "(178, 'NQMC-8472.xml')"
       ]
      },
      {
       "output_type": "stream",
       "stream": "stdout",
       "text": [
        "\n",
        "(179, 'NQMC-9500.xml')\n",
        "(180, 'NQMC-9416.xml')\n",
        "(181, 'NQMC-8346.xml')\n",
        "(182, 'NQMC-3784.xml')\n",
        "(183, 'NQMC-8970.xml')\n",
        "(184, 'NQMC-8013.xml')\n",
        "(185, 'NQMC-2918.xml')\n",
        "(186, 'NQMC-7237.xml')\n",
        "(187, 'NQMC-3780.xml')\n",
        "(188, 'NQMC-9411.xml')\n",
        "(189, 'NQMC-8327.xml')\n",
        "(190, 'NQMC-5010.xml')\n",
        "(191, 'NQMC-9406.xml')\n",
        "(192, 'NQMC-2936.xml')"
       ]
      },
      {
       "output_type": "stream",
       "stream": "stdout",
       "text": [
        "\n",
        "(193, 'NQMC-8852.xml')\n",
        "(194, 'NQMC-4414.xml')\n",
        "(195, 'NQMC-8495.xml')\n",
        "(196, 'NQMC-3779.xml')\n",
        "(197, 'NQMC-8937.xml')\n",
        "(198, 'NQMC-8314.xml')\n",
        "(199, 'NQMC-9308.xml')\n",
        "(200, 'NQMC-8325.xml')\n",
        "(201, 'NQMC-3782.xml')\n",
        "(202, 'NQMC-8972.xml')\n",
        "(203, 'NQMC-7228.xml')\n",
        "(204, 'NQMC-6888.xml')\n",
        "(205, 'NQMC-9405.xml')\n",
        "(206, 'NQMC-8059.xml')"
       ]
      },
      {
       "output_type": "stream",
       "stream": "stdout",
       "text": [
        "\n",
        "(207, 'NQMC-9502.xml')\n",
        "(208, 'NQMC-8319.xml')\n",
        "(209, 'NQMC-9706.xml')\n",
        "(210, 'NQMC-8091.xml')\n",
        "(211, 'NQMC-8313.xml')\n",
        "(212, 'NQMC-2935.xml')\n",
        "(213, 'NQMC-9381.xml')\n",
        "(214, 'NQMC-4423.xml')\n",
        "(215, 'NQMC-8108.xml')\n",
        "(216, 'NQMC-9468.xml')\n",
        "(217, 'NQMC-8074.xml')\n",
        "(218, 'NQMC-8343.xml')\n",
        "(219, 'NQMC-8819.xml')\n",
        "(220, 'NQMC-8011.xml')"
       ]
      },
      {
       "output_type": "stream",
       "stream": "stdout",
       "text": [
        "\n",
        "(221, 'NQMC-8444.xml')\n",
        "(222, 'NQMC-8938.xml')\n",
        "(223, 'NQMC-8316.xml')\n",
        "(224, 'NQMC-8078.xml')\n",
        "(225, 'NQMC-3785.xml')\n",
        "(226, 'NQMC-8312.xml')\n",
        "(227, 'NQMC-9012.xml')\n",
        "(228, 'NQMC-9051.xml')\n",
        "(229, 'NQMC-9511.xml')\n",
        "(230, 'NQMC-9398.xml')\n",
        "(231, 'NQMC-9445.xml')\n",
        "(232, 'NQMC-8436.xml')\n",
        "(233, 'NQMC-3783.xml')\n",
        "(234, 'NQMC-5009.xml')"
       ]
      },
      {
       "output_type": "stream",
       "stream": "stdout",
       "text": [
        "\n",
        "(235, 'NQMC-8844.xml')\n",
        "(236, 'NQMC-2905.xml')\n",
        "(237, 'NQMC-8808.xml')\n",
        "(238, 'NQMC-8858.xml')\n",
        "(239, 'NQMC-9217.xml')\n",
        "(240, 'NQMC-8842.xml')\n",
        "(241, 'NQMC-8060.xml')\n",
        "(242, 'NQMC-9307.xml')\n",
        "(243, 'NQMC-8012.xml')\n",
        "(244, 'NQMC-2912.xml')\n",
        "(245, 'NQMC-8311.xml')\n",
        "(246, 'NQMC-7225.xml')\n",
        "(247, 'NQMC-7227.xml')"
       ]
      },
      {
       "output_type": "stream",
       "stream": "stdout",
       "text": [
        "\n",
        "(248, 'NQMC-8015.xml')\n",
        "(249, 'NQMC-9142.xml')\n",
        "(250, 'NQMC-8446.xml')\n",
        "(251, 'NQMC-353.xml')\n",
        "(252, 'NQMC-5008.xml')\n",
        "(253, 'NQMC-8351.xml')\n",
        "(254, 'NQMC-4431.xml')\n",
        "(255, 'NQMC-8062.xml')\n",
        "(256, 'NQMC-3777.xml')\n",
        "(257, 'NQMC-9506.xml')\n",
        "(258, 'NQMC-8322.xml')\n",
        "(259, 'NQMC-9408.xml')\n",
        "(260, 'NQMC-8318.xml')\n",
        "(261, 'NQMC-3774.xml')\n",
        "(262, 'NQMC-2907.xml')"
       ]
      },
      {
       "output_type": "stream",
       "stream": "stdout",
       "text": [
        "\n",
        "(263, 'NQMC-7239.xml')\n",
        "(264, 'NQMC-8053.xml')\n",
        "(265, 'NQMC-8079.xml')\n",
        "(266, 'NQMC-9143.xml')\n",
        "(267, 'NQMC-9295.xml')\n",
        "(268, 'NQMC-8822.xml')\n",
        "(269, 'NQMC-8009.xml')\n",
        "(270, 'NQMC-4421.xml')\n",
        "(271, 'NQMC-8904.xml')\n",
        "(272, 'NQMC-9380.xml')\n",
        "(273, 'NQMC-8867.xml')\n",
        "(274, 'NQMC-8323.xml')\n",
        "(275, 'NQMC-8072.xml')\n",
        "(276, 'NQMC-4425.xml')"
       ]
      },
      {
       "output_type": "stream",
       "stream": "stdout",
       "text": [
        "\n",
        "(277, 'NQMC-9108.xml')\n",
        "(278, 'NQMC-8010.xml')\n",
        "(279, 'NQMC-2944.xml')\n",
        "(280, 'NQMC-8469.xml')\n",
        "(281, 'NQMC-8350.xml')\n",
        "(282, 'NQMC-8353.xml')\n",
        "(283, 'NQMC-8052.xml')\n",
        "(284, 'NQMC-9509.xml')\n",
        "(285, 'NQMC-2910.xml')\n",
        "(286, 'NQMC-9218.xml')\n",
        "(287, 'NQMC-8018.xml')\n",
        "(288, 'NQMC-9531.xml')\n",
        "(289, 'NQMC-6903.xml')\n",
        "(290, 'NQMC-8940.xml')"
       ]
      },
      {
       "output_type": "stream",
       "stream": "stdout",
       "text": [
        "\n",
        "(291, 'NQMC-8329.xml')\n",
        "(292, 'NQMC-9504.xml')\n",
        "(293, 'NQMC-8861.xml')\n",
        "(294, 'NQMC-8824.xml')\n",
        "(295, 'NQMC-7232.xml')\n",
        "(296, 'NQMC-350.xml')\n",
        "(297, 'NQMC-9510.xml')\n",
        "(298, 'NQMC-8443.xml')\n",
        "(299, 'NQMC-9501.xml')\n",
        "(300, 'NQMC-8492.xml')\n",
        "(301, 'NQMC-9379.xml')\n",
        "(302, 'NQMC-8438.xml')\n",
        "(303, 'NQMC-8856.xml')\n",
        "(304, 'NQMC-8841.xml')"
       ]
      },
      {
       "output_type": "stream",
       "stream": "stdout",
       "text": [
        "\n",
        "(305, 'NQMC-9407.xml')\n",
        "(306, 'NQMC-7235.xml')\n"
       ]
      }
     ],
     "prompt_number": 13
    },
    {
     "cell_type": "code",
     "collapsed": false,
     "input": [
      "not []"
     ],
     "language": "python",
     "metadata": {},
     "outputs": [
      {
       "metadata": {},
       "output_type": "pyout",
       "prompt_number": 4,
       "text": [
        "True"
       ]
      }
     ],
     "prompt_number": 4
    },
    {
     "cell_type": "code",
     "collapsed": false,
     "input": [
      "print(s)"
     ],
     "language": "python",
     "metadata": {},
     "outputs": [
      {
       "output_type": "stream",
       "stream": "stdout",
       "text": [
        "<table><tr><td>Hall LL, Flynn LM. NAMI'S managed care report card. National Alliance for the Mentally Ill. Eval Rev. 1997 Jun;21(3):352-6. [9 references] <a href=\"http://www.ncbi.nlm.nih.gov/entrez/query.fcgi?cmd=Retrieve&db=pubmed&dopt=Abstract&list_uids=10183287\" target=\"_blank\">PubMed</a></td></tr></table>\n"
       ]
      }
     ],
     "prompt_number": 51
    },
    {
     "cell_type": "code",
     "collapsed": false,
     "input": [
      "m = re.search(r\"list_uids=(\\d+)\\\"\", s)\n",
      "m.start()\n",
      "m.group(1)"
     ],
     "language": "python",
     "metadata": {},
     "outputs": [
      {
       "ename": "AttributeError",
       "evalue": "'NoneType' object has no attribute 'start'",
       "output_type": "pyerr",
       "traceback": [
        "\u001b[0;31m---------------------------------------------------------------------------\u001b[0m\n\u001b[0;31mAttributeError\u001b[0m                            Traceback (most recent call last)",
        "\u001b[0;32m<ipython-input-6-91bb7f1f4c14>\u001b[0m in \u001b[0;36m<module>\u001b[0;34m()\u001b[0m\n\u001b[1;32m      1\u001b[0m \u001b[0mm\u001b[0m \u001b[0;34m=\u001b[0m \u001b[0mre\u001b[0m\u001b[0;34m.\u001b[0m\u001b[0msearch\u001b[0m\u001b[0;34m(\u001b[0m\u001b[0;34mr\"list_uids=(\\d+)\\\"\"\u001b[0m\u001b[0;34m,\u001b[0m \u001b[0ms\u001b[0m\u001b[0;34m)\u001b[0m\u001b[0;34m\u001b[0m\u001b[0m\n\u001b[0;32m----> 2\u001b[0;31m \u001b[0mm\u001b[0m\u001b[0;34m.\u001b[0m\u001b[0mstart\u001b[0m\u001b[0;34m(\u001b[0m\u001b[0;34m)\u001b[0m\u001b[0;34m\u001b[0m\u001b[0m\n\u001b[0m\u001b[1;32m      3\u001b[0m \u001b[0mm\u001b[0m\u001b[0;34m.\u001b[0m\u001b[0mgroup\u001b[0m\u001b[0;34m(\u001b[0m\u001b[0;36m1\u001b[0m\u001b[0;34m)\u001b[0m\u001b[0;34m\u001b[0m\u001b[0m\n",
        "\u001b[0;31mAttributeError\u001b[0m: 'NoneType' object has no attribute 'start'"
       ]
      }
     ],
     "prompt_number": 6
    },
    {
     "cell_type": "markdown",
     "metadata": {},
     "source": [
      "m.groups()"
     ]
    },
    {
     "cell_type": "code",
     "collapsed": false,
     "input": [],
     "language": "python",
     "metadata": {},
     "outputs": []
    }
   ],
   "metadata": {}
  }
 ]
}